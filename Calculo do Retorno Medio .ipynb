{
 "cells": [
  {
   "cell_type": "markdown",
   "metadata": {},
   "source": [
    "# Retorno medio simples"
   ]
  },
  {
   "cell_type": "code",
   "execution_count": 5,
   "metadata": {},
   "outputs": [],
   "source": [
    "from pandas_datareader import data, wb\n",
    "import pandas as pd\n",
    "import numpy as np\n",
    "import datetime\n",
    "import matplotlib.pyplot as plt\n",
    "import seaborn as sns\n",
    "\n",
    "%matplotlib inline"
   ]
  },
  {
   "cell_type": "code",
   "execution_count": 6,
   "metadata": {},
   "outputs": [],
   "source": [
    "start = datetime.datetime(2010, 1, 1)\n",
    "end = datetime.datetime(2020, 1, 1)\n",
    "\n",
    "\n",
    "ITUB3 = data.DataReader(\"ITUB3.SA\", 'yahoo', start, end)"
   ]
  },
  {
   "cell_type": "code",
   "execution_count": 7,
   "metadata": {},
   "outputs": [
    {
     "data": {
      "text/html": [
       "<div>\n",
       "<style scoped>\n",
       "    .dataframe tbody tr th:only-of-type {\n",
       "        vertical-align: middle;\n",
       "    }\n",
       "\n",
       "    .dataframe tbody tr th {\n",
       "        vertical-align: top;\n",
       "    }\n",
       "\n",
       "    .dataframe thead th {\n",
       "        text-align: right;\n",
       "    }\n",
       "</style>\n",
       "<table border=\"1\" class=\"dataframe\">\n",
       "  <thead>\n",
       "    <tr style=\"text-align: right;\">\n",
       "      <th></th>\n",
       "      <th>High</th>\n",
       "      <th>Low</th>\n",
       "      <th>Open</th>\n",
       "      <th>Close</th>\n",
       "      <th>Volume</th>\n",
       "      <th>Adj Close</th>\n",
       "    </tr>\n",
       "    <tr>\n",
       "      <th>Date</th>\n",
       "      <th></th>\n",
       "      <th></th>\n",
       "      <th></th>\n",
       "      <th></th>\n",
       "      <th></th>\n",
       "      <th></th>\n",
       "    </tr>\n",
       "  </thead>\n",
       "  <tbody>\n",
       "    <tr>\n",
       "      <th>2010-01-04</th>\n",
       "      <td>14.1384</td>\n",
       "      <td>13.6557</td>\n",
       "      <td>13.6557</td>\n",
       "      <td>14.1384</td>\n",
       "      <td>627001.0</td>\n",
       "      <td>9.744607</td>\n",
       "    </tr>\n",
       "    <tr>\n",
       "      <th>2010-01-05</th>\n",
       "      <td>14.1611</td>\n",
       "      <td>13.9562</td>\n",
       "      <td>14.1156</td>\n",
       "      <td>14.1611</td>\n",
       "      <td>183159.0</td>\n",
       "      <td>9.760255</td>\n",
       "    </tr>\n",
       "    <tr>\n",
       "      <th>2010-01-06</th>\n",
       "      <td>14.1611</td>\n",
       "      <td>13.9654</td>\n",
       "      <td>14.1611</td>\n",
       "      <td>14.1611</td>\n",
       "      <td>116396.0</td>\n",
       "      <td>9.760255</td>\n",
       "    </tr>\n",
       "    <tr>\n",
       "      <th>2010-01-07</th>\n",
       "      <td>14.0701</td>\n",
       "      <td>13.9471</td>\n",
       "      <td>14.0564</td>\n",
       "      <td>14.0245</td>\n",
       "      <td>136820.0</td>\n",
       "      <td>9.666101</td>\n",
       "    </tr>\n",
       "    <tr>\n",
       "      <th>2010-01-08</th>\n",
       "      <td>14.0154</td>\n",
       "      <td>13.7195</td>\n",
       "      <td>13.9745</td>\n",
       "      <td>13.8652</td>\n",
       "      <td>95972.0</td>\n",
       "      <td>9.556314</td>\n",
       "    </tr>\n",
       "  </tbody>\n",
       "</table>\n",
       "</div>"
      ],
      "text/plain": [
       "               High      Low     Open    Close    Volume  Adj Close\n",
       "Date                                                               \n",
       "2010-01-04  14.1384  13.6557  13.6557  14.1384  627001.0   9.744607\n",
       "2010-01-05  14.1611  13.9562  14.1156  14.1611  183159.0   9.760255\n",
       "2010-01-06  14.1611  13.9654  14.1611  14.1611  116396.0   9.760255\n",
       "2010-01-07  14.0701  13.9471  14.0564  14.0245  136820.0   9.666101\n",
       "2010-01-08  14.0154  13.7195  13.9745  13.8652   95972.0   9.556314"
      ]
     },
     "execution_count": 7,
     "metadata": {},
     "output_type": "execute_result"
    }
   ],
   "source": [
    "ITUB3.head(5)"
   ]
  },
  {
   "cell_type": "code",
   "execution_count": 8,
   "metadata": {},
   "outputs": [
    {
     "data": {
      "text/plain": [
       "Date\n",
       "2010-01-04         NaN\n",
       "2010-01-05    0.001606\n",
       "2010-01-06    0.000000\n",
       "2010-01-07   -0.009647\n",
       "2010-01-08   -0.011358\n",
       "Name: simple_return, dtype: float64"
      ]
     },
     "execution_count": 8,
     "metadata": {},
     "output_type": "execute_result"
    }
   ],
   "source": [
    "ITUB3['simple_return'] = (ITUB3['Adj Close'] / ITUB3['Adj Close'].shift(1) ) -1\n",
    "ITUB3['simple_return'].head(5)"
   ]
  },
  {
   "cell_type": "code",
   "execution_count": 9,
   "metadata": {},
   "outputs": [
    {
     "data": {
      "text/html": [
       "<div>\n",
       "<style scoped>\n",
       "    .dataframe tbody tr th:only-of-type {\n",
       "        vertical-align: middle;\n",
       "    }\n",
       "\n",
       "    .dataframe tbody tr th {\n",
       "        vertical-align: top;\n",
       "    }\n",
       "\n",
       "    .dataframe thead th {\n",
       "        text-align: right;\n",
       "    }\n",
       "</style>\n",
       "<table border=\"1\" class=\"dataframe\">\n",
       "  <thead>\n",
       "    <tr style=\"text-align: right;\">\n",
       "      <th></th>\n",
       "      <th>High</th>\n",
       "      <th>Low</th>\n",
       "      <th>Open</th>\n",
       "      <th>Close</th>\n",
       "      <th>Volume</th>\n",
       "      <th>Adj Close</th>\n",
       "      <th>simple_return</th>\n",
       "    </tr>\n",
       "    <tr>\n",
       "      <th>Date</th>\n",
       "      <th></th>\n",
       "      <th></th>\n",
       "      <th></th>\n",
       "      <th></th>\n",
       "      <th></th>\n",
       "      <th></th>\n",
       "      <th></th>\n",
       "    </tr>\n",
       "  </thead>\n",
       "  <tbody>\n",
       "    <tr>\n",
       "      <th>2010-01-04</th>\n",
       "      <td>14.1384</td>\n",
       "      <td>13.6557</td>\n",
       "      <td>13.6557</td>\n",
       "      <td>14.1384</td>\n",
       "      <td>627001.0</td>\n",
       "      <td>9.744607</td>\n",
       "      <td>NaN</td>\n",
       "    </tr>\n",
       "    <tr>\n",
       "      <th>2010-01-05</th>\n",
       "      <td>14.1611</td>\n",
       "      <td>13.9562</td>\n",
       "      <td>14.1156</td>\n",
       "      <td>14.1611</td>\n",
       "      <td>183159.0</td>\n",
       "      <td>9.760255</td>\n",
       "      <td>0.001606</td>\n",
       "    </tr>\n",
       "    <tr>\n",
       "      <th>2010-01-06</th>\n",
       "      <td>14.1611</td>\n",
       "      <td>13.9654</td>\n",
       "      <td>14.1611</td>\n",
       "      <td>14.1611</td>\n",
       "      <td>116396.0</td>\n",
       "      <td>9.760255</td>\n",
       "      <td>0.000000</td>\n",
       "    </tr>\n",
       "    <tr>\n",
       "      <th>2010-01-07</th>\n",
       "      <td>14.0701</td>\n",
       "      <td>13.9471</td>\n",
       "      <td>14.0564</td>\n",
       "      <td>14.0245</td>\n",
       "      <td>136820.0</td>\n",
       "      <td>9.666101</td>\n",
       "      <td>-0.009647</td>\n",
       "    </tr>\n",
       "    <tr>\n",
       "      <th>2010-01-08</th>\n",
       "      <td>14.0154</td>\n",
       "      <td>13.7195</td>\n",
       "      <td>13.9745</td>\n",
       "      <td>13.8652</td>\n",
       "      <td>95972.0</td>\n",
       "      <td>9.556314</td>\n",
       "      <td>-0.011358</td>\n",
       "    </tr>\n",
       "  </tbody>\n",
       "</table>\n",
       "</div>"
      ],
      "text/plain": [
       "               High      Low     Open    Close    Volume  Adj Close  \\\n",
       "Date                                                                  \n",
       "2010-01-04  14.1384  13.6557  13.6557  14.1384  627001.0   9.744607   \n",
       "2010-01-05  14.1611  13.9562  14.1156  14.1611  183159.0   9.760255   \n",
       "2010-01-06  14.1611  13.9654  14.1611  14.1611  116396.0   9.760255   \n",
       "2010-01-07  14.0701  13.9471  14.0564  14.0245  136820.0   9.666101   \n",
       "2010-01-08  14.0154  13.7195  13.9745  13.8652   95972.0   9.556314   \n",
       "\n",
       "            simple_return  \n",
       "Date                       \n",
       "2010-01-04            NaN  \n",
       "2010-01-05       0.001606  \n",
       "2010-01-06       0.000000  \n",
       "2010-01-07      -0.009647  \n",
       "2010-01-08      -0.011358  "
      ]
     },
     "execution_count": 9,
     "metadata": {},
     "output_type": "execute_result"
    }
   ],
   "source": [
    "ITUB3.head(5)"
   ]
  },
  {
   "cell_type": "code",
   "execution_count": 52,
   "metadata": {
    "scrolled": true
   },
   "outputs": [
    {
     "data": {
      "text/plain": [
       "<matplotlib.axes._subplots.AxesSubplot at 0x1f6e1606898>"
      ]
     },
     "execution_count": 52,
     "metadata": {},
     "output_type": "execute_result"
    },
    {
     "data": {
      "image/png": "[encoded data removed]",
      "text/plain": [
       "<Figure size 432x288 with 1 Axes>"
      ]
     },
     "metadata": {
      "needs_background": "light"
     },
     "output_type": "display_data"
    }
   ],
   "source": [
    "ITUB3['simple_return'].plot()\n",
    "\n"
   ]
  },
  {
   "cell_type": "code",
   "execution_count": 19,
   "metadata": {},
   "outputs": [
    {
     "data": {
      "text/plain": [
       "0.000634959370645966"
      ]
     },
     "execution_count": 19,
     "metadata": {},
     "output_type": "execute_result"
    }
   ],
   "source": [
    "retorno_medio = ITUB3['simple_return'].mean()\n",
    "retorno_medio"
   ]
  },
  {
   "cell_type": "code",
   "execution_count": 20,
   "metadata": {},
   "outputs": [
    {
     "data": {
      "text/plain": [
       "0.1587398426614915"
      ]
     },
     "execution_count": 20,
     "metadata": {},
     "output_type": "execute_result"
    }
   ],
   "source": [
    "retorno_medio = ITUB3['simple_return'].mean() * 250\n",
    "retorno_medio"
   ]
  },
  {
   "cell_type": "code",
   "execution_count": 34,
   "metadata": {
    "scrolled": true
   },
   "outputs": [
    {
     "name": "stdout",
     "output_type": "stream",
     "text": [
      "retorno medio da ação = 15.87%\n"
     ]
    }
   ],
   "source": [
    "print(\"retorno medio da ação = {:.2%}\".format(retorno_medio))"
   ]
  },
  {
   "cell_type": "code",
   "execution_count": null,
   "metadata": {},
   "outputs": [],
   "source": []
  },
  {
   "cell_type": "code",
   "execution_count": null,
   "metadata": {},
   "outputs": [],
   "source": []
  },
  {
   "cell_type": "code",
   "execution_count": null,
   "metadata": {},
   "outputs": [],
   "source": []
  },
  {
   "cell_type": "markdown",
   "metadata": {},
   "source": [
    "# Retorno medio logaritmico\n",
    "\n",
    "* Preferivel quando se tem que acompanhar só uma ação"
   ]
  },
  {
   "cell_type": "code",
   "execution_count": 36,
   "metadata": {},
   "outputs": [],
   "source": [
    "start = datetime.datetime(2010, 1, 1)\n",
    "end = datetime.datetime(2020, 1, 1)\n",
    "\n",
    "\n",
    "itau = data.DataReader(\"ITUB3.SA\", 'yahoo', start, end)"
   ]
  },
  {
   "cell_type": "code",
   "execution_count": 37,
   "metadata": {},
   "outputs": [
    {
     "data": {
      "text/html": [
       "<div>\n",
       "<style scoped>\n",
       "    .dataframe tbody tr th:only-of-type {\n",
       "        vertical-align: middle;\n",
       "    }\n",
       "\n",
       "    .dataframe tbody tr th {\n",
       "        vertical-align: top;\n",
       "    }\n",
       "\n",
       "    .dataframe thead th {\n",
       "        text-align: right;\n",
       "    }\n",
       "</style>\n",
       "<table border=\"1\" class=\"dataframe\">\n",
       "  <thead>\n",
       "    <tr style=\"text-align: right;\">\n",
       "      <th></th>\n",
       "      <th>High</th>\n",
       "      <th>Low</th>\n",
       "      <th>Open</th>\n",
       "      <th>Close</th>\n",
       "      <th>Volume</th>\n",
       "      <th>Adj Close</th>\n",
       "    </tr>\n",
       "    <tr>\n",
       "      <th>Date</th>\n",
       "      <th></th>\n",
       "      <th></th>\n",
       "      <th></th>\n",
       "      <th></th>\n",
       "      <th></th>\n",
       "      <th></th>\n",
       "    </tr>\n",
       "  </thead>\n",
       "  <tbody>\n",
       "    <tr>\n",
       "      <th>2010-01-04</th>\n",
       "      <td>14.1384</td>\n",
       "      <td>13.6557</td>\n",
       "      <td>13.6557</td>\n",
       "      <td>14.1384</td>\n",
       "      <td>627001.0</td>\n",
       "      <td>9.744607</td>\n",
       "    </tr>\n",
       "    <tr>\n",
       "      <th>2010-01-05</th>\n",
       "      <td>14.1611</td>\n",
       "      <td>13.9562</td>\n",
       "      <td>14.1156</td>\n",
       "      <td>14.1611</td>\n",
       "      <td>183159.0</td>\n",
       "      <td>9.760255</td>\n",
       "    </tr>\n",
       "    <tr>\n",
       "      <th>2010-01-06</th>\n",
       "      <td>14.1611</td>\n",
       "      <td>13.9654</td>\n",
       "      <td>14.1611</td>\n",
       "      <td>14.1611</td>\n",
       "      <td>116396.0</td>\n",
       "      <td>9.760255</td>\n",
       "    </tr>\n",
       "    <tr>\n",
       "      <th>2010-01-07</th>\n",
       "      <td>14.0701</td>\n",
       "      <td>13.9471</td>\n",
       "      <td>14.0564</td>\n",
       "      <td>14.0245</td>\n",
       "      <td>136820.0</td>\n",
       "      <td>9.666101</td>\n",
       "    </tr>\n",
       "    <tr>\n",
       "      <th>2010-01-08</th>\n",
       "      <td>14.0154</td>\n",
       "      <td>13.7195</td>\n",
       "      <td>13.9745</td>\n",
       "      <td>13.8652</td>\n",
       "      <td>95972.0</td>\n",
       "      <td>9.556314</td>\n",
       "    </tr>\n",
       "  </tbody>\n",
       "</table>\n",
       "</div>"
      ],
      "text/plain": [
       "               High      Low     Open    Close    Volume  Adj Close\n",
       "Date                                                               \n",
       "2010-01-04  14.1384  13.6557  13.6557  14.1384  627001.0   9.744607\n",
       "2010-01-05  14.1611  13.9562  14.1156  14.1611  183159.0   9.760255\n",
       "2010-01-06  14.1611  13.9654  14.1611  14.1611  116396.0   9.760255\n",
       "2010-01-07  14.0701  13.9471  14.0564  14.0245  136820.0   9.666101\n",
       "2010-01-08  14.0154  13.7195  13.9745  13.8652   95972.0   9.556314"
      ]
     },
     "execution_count": 37,
     "metadata": {},
     "output_type": "execute_result"
    }
   ],
   "source": [
    "itau.head(5)"
   ]
  },
  {
   "cell_type": "code",
   "execution_count": 42,
   "metadata": {},
   "outputs": [
    {
     "data": {
      "text/plain": [
       "Date\n",
       "2010-01-04         NaN\n",
       "2010-01-05    0.001605\n",
       "2010-01-06    0.000000\n",
       "2010-01-07   -0.009694\n",
       "2010-01-08   -0.011423\n",
       "Name: retorno_medio_em_log, dtype: float64"
      ]
     },
     "execution_count": 42,
     "metadata": {},
     "output_type": "execute_result"
    }
   ],
   "source": [
    "itau['retorno_medio_em_log'] = np.log( itau['Adj Close'] / itau['Adj Close'].shift(1) )\n",
    "itau['retorno_medio_em_log'].head(5)"
   ]
  },
  {
   "cell_type": "code",
   "execution_count": 43,
   "metadata": {},
   "outputs": [
    {
     "data": {
      "text/plain": [
       "<matplotlib.axes._subplots.AxesSubplot at 0x1f6dfcef080>"
      ]
     },
     "execution_count": 43,
     "metadata": {},
     "output_type": "execute_result"
    },
    {
     "data": {
      "image/png": "[encoded data removed]",
      "text/plain": [
       "<Figure size 432x288 with 1 Axes>"
      ]
     },
     "metadata": {
      "needs_background": "light"
     },
     "output_type": "display_data"
    }
   ],
   "source": [
    "itau['retorno_medio_em_log'].plot()"
   ]
  },
  {
   "cell_type": "code",
   "execution_count": 45,
   "metadata": {},
   "outputs": [
    {
     "data": {
      "text/plain": [
       "0.0004739671029135751"
      ]
     },
     "execution_count": 45,
     "metadata": {},
     "output_type": "execute_result"
    }
   ],
   "source": [
    "retorno_medio_em_log_d = itau['retorno_medio_em_log'].mean()\n",
    "retorno_medio_em_log_d"
   ]
  },
  {
   "cell_type": "code",
   "execution_count": 46,
   "metadata": {},
   "outputs": [
    {
     "data": {
      "text/plain": [
       "0.11849177572839378"
      ]
     },
     "execution_count": 46,
     "metadata": {},
     "output_type": "execute_result"
    }
   ],
   "source": [
    "retorno_medio_em_log_a = itau['retorno_medio_em_log'].mean() * 250\n",
    "retorno_medio_em_log_a"
   ]
  },
  {
   "cell_type": "code",
   "execution_count": 50,
   "metadata": {},
   "outputs": [
    {
     "name": "stdout",
     "output_type": "stream",
     "text": [
      "Retorno medio anual 11.85%\n"
     ]
    }
   ],
   "source": [
    "print(\"Retorno medio anual {:.2%}\".format(retorno_medio_em_log_a))"
   ]
  }
 ],
 "metadata": {
  "kernelspec": {
   "display_name": "Python 3",
   "language": "python",
   "name": "python3"
  },
  "language_info": {
   "codemirror_mode": {
    "name": "ipython",
    "version": 3
   },
   "file_extension": ".py",
   "mimetype": "text/x-python",
   "name": "python",
   "nbconvert_exporter": "python",
   "pygments_lexer": "ipython3",
   "version": "3.7.3"
  }
 },
 "nbformat": 4,
 "nbformat_minor": 2
}
